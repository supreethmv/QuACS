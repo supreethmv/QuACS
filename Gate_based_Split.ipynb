{
  "cells": [
    {
      "cell_type": "code",
      "execution_count": null,
      "metadata": {
        "id": "xEzj8uvPd-Ro"
      },
      "outputs": [],
      "source": [
        "!pip install qiskit-aqua\n",
        "!pip install qiskit\n",
        "!pip install qiskit_optimization"
      ]
    },
    {
      "cell_type": "code",
      "execution_count": null,
      "metadata": {
        "id": "1OP1MVZOvjkj"
      },
      "outputs": [],
      "source": [
        "import numpy as np\n",
        "import pandas as pd\n",
        "import time\n",
        "import math\n",
        "import itertools\n",
        "\n",
        "import networkx as nx\n",
        "%matplotlib inline\n",
        "\n",
        "from qiskit import Aer\n",
        "from qiskit_optimization.applications import Maxcut\n",
        "from qiskit.algorithms import QAOA, NumPyMinimumEigensolver\n",
        "from qiskit.utils import algorithm_globals, QuantumInstance\n",
        "from qiskit_optimization.algorithms import MinimumEigenOptimizer"
      ]
    },
    {
      "cell_type": "code",
      "execution_count": null,
      "metadata": {
        "id": "o7UxpYJ8wbHY"
      },
      "outputs": [],
      "source": [
        "from utils import *"
      ]
    },
    {
      "cell_type": "markdown",
      "metadata": {
        "id": "LTykNAYYllyk"
      },
      "source": [
        "### Brute force solution"
      ]
    },
    {
      "cell_type": "code",
      "execution_count": null,
      "metadata": {
        "id": "oAIo2uT0lrIr"
      },
      "outputs": [],
      "source": [
        "def solve_brute_force(n_agents, induced_subgraph_game):\n",
        "  G=nx.Graph()\n",
        "  G.add_nodes_from(np.arange(0,n_agents,1))\n",
        "  elist = [tuple((int(x)-1 for x in key.split(',')))+tuple([induced_subgraph_game[key]*-1]) for key in induced_subgraph_game]\n",
        "  G.add_weighted_edges_from(elist)\n",
        "  w = [[G.get_edge_data(i,j,default = {'weight': 0})['weight']  for j in range(n_agents)] for i in range(n_agents)]\n",
        "\n",
        "  x = [int(t) for t in reversed(list(bin(0)[2:].zfill(n_agents)))]\n",
        "  cost = [[w[i][j]*x[i]*(1-x[j]) for j in range(n_agents)] for i in range(n_agents)]\n",
        "  best_cost_brute = sum([sum(i) for i in cost])\n",
        "  xbest_brute = x\n",
        "\n",
        "  for b in range(1, 2**(n_agents-1)):\n",
        "    x = [int(t) for t in reversed(list(bin(b)[2:].zfill(n_agents)))]\n",
        "    cost = [[w[i][j]*x[i]*(1-x[j]) for j in range(n_agents)] for i in range(n_agents)]\n",
        "    cost = sum([sum(i) for i in cost])\n",
        "    if cost > best_cost_brute:\n",
        "      best_cost_brute = cost\n",
        "      xbest_brute = x\n",
        "  return np.array(xbest_brute), -best_cost_brute"
      ]
    },
    {
      "cell_type": "markdown",
      "metadata": {
        "id": "5rS7X7CPmCRJ"
      },
      "source": [
        "### Qiskit exact solution using NumpyEigensolver (Cassical)"
      ]
    },
    {
      "cell_type": "code",
      "execution_count": null,
      "metadata": {
        "id": "peLxbN46UR9w"
      },
      "outputs": [],
      "source": [
        "def solve_qiskit_classical_eigensolver(n_agents, induced_subgraph_game):\n",
        "  G=nx.Graph()\n",
        "  G.add_nodes_from(np.arange(0,n_agents,1))\n",
        "  elist = [tuple((int(x)-1 for x in key.split(',')))+tuple([induced_subgraph_game[key]*-1]) for key in induced_subgraph_game]\n",
        "  G.add_weighted_edges_from(elist)\n",
        "  w = [[G.get_edge_data(i,j,default = {'weight': 0})['weight']  for j in range(n_agents)] for i in range(n_agents)]\n",
        "  w = np.array([np.array(row) for row in w])\n",
        "  max_cut = Maxcut(w)\n",
        "  qp = max_cut.to_quadratic_program()\n",
        "  qubitOp, offset = qp.to_ising()\n",
        "  exact = MinimumEigenOptimizer(NumPyMinimumEigensolver())\n",
        "  result = exact.solve(qp)\n",
        "  return result.x, -result.fval"
      ]
    },
    {
      "cell_type": "markdown",
      "metadata": {
        "id": "o8IlBhJMYykc"
      },
      "source": [
        "### Qiskit heuristic solution using QAOA"
      ]
    },
    {
      "cell_type": "code",
      "execution_count": null,
      "metadata": {
        "id": "BmzRoWWKKeHJ"
      },
      "outputs": [],
      "source": [
        "def solve_qiskit_QAOA(n_agents, induced_subgraph_game, reps = 1, simulator = \"aer_simulator_statevector\", shots=1000, seed_simulator=123, seed_transpiler=123):\n",
        "  backend=Aer.get_backend(simulator)\n",
        "  qins = QuantumInstance(backend=backend, shots=shots, seed_simulator=seed_simulator, seed_transpiler=seed_transpiler)\n",
        "  G=nx.Graph()\n",
        "  G.add_nodes_from(np.arange(0,n_agents,1))\n",
        "  elist = [tuple((int(x)-1 for x in key.split(',')))+tuple([induced_subgraph_game[key]*-1]) for key in induced_subgraph_game]\n",
        "  G.add_weighted_edges_from(elist)\n",
        "  w = [[G.get_edge_data(i,j,default = {'weight': 0})['weight']  for j in range(n_agents)] for i in range(n_agents)]\n",
        "  w = np.array([np.array(row) for row in w])\n",
        "  max_cut = Maxcut(w)\n",
        "  qp = max_cut.to_quadratic_program()\n",
        "  qubitOp, offset = qp.to_ising()\n",
        "  algorithm_globals.random_seed = seed\n",
        "  heuristic = MinimumEigenOptimizer(min_eigen_solver=QAOA(reps=reps, quantum_instance=qins))\n",
        "  result = heuristic.solve(qp)\n",
        "  return result.x, -result.fval"
      ]
    },
    {
      "cell_type": "markdown",
      "metadata": {
        "id": "oN9RxO4CtMSw"
      },
      "source": [
        "### DWave solution using QAOA"
      ]
    },
    {
      "cell_type": "code",
      "execution_count": null,
      "metadata": {
        "id": "--DAuwpRtMSy"
      },
      "outputs": [],
      "source": [
        "def solve_dwave(n, induced_subgraph_game, save_log=False, name_folder='distribution', n_samples= 4000, n_run=5, seed=None):\n",
        "    \n",
        "    for run in np.arange(1,n_run+1):\n",
        "        print('.',end='')\n",
        "        linear, quadratic = get_linear_quadratic_coeffs(n, induced_subgraph_game)\n",
        "        sample = dwave_solver(linear, quadratic, offset = 0.0, runs=n_samples)\n",
        "\n",
        "        if save_log:\n",
        "            if seed is not None:\n",
        "                path = os.path.join('QA_results', str(seed), name_folder, str(n), 'run_'+str(run))\n",
        "            else:\n",
        "                path = os.path.join('QA_results', name_folder, str(n), 'run_'+str(run))\n",
        "            create_dir(path)\n",
        "\n",
        "            try:\n",
        "                sample.to_pandas_dataframe().to_csv(os.path.join(path, 'solutions.csv'))\n",
        "                save_json(os.path.join(path, 'log'), sample.info)\n",
        "            except:\n",
        "                print(\"\\n **** Warning: results for\",  name_folder, \"with\", n, \"agents not saved*** \\n\")\n",
        "\n",
        "\n",
        "        dwave_annealer_solution=[]\n",
        "        for key, value in sample.first[0].items():\n",
        "            dwave_annealer_solution.append(value)\n",
        "\n",
        "        dwave_annealer_solution = np.array(dwave_annealer_solution)\n",
        "        dwave_annealer_value = from_columns_to_string(sample.to_pandas_dataframe()).loc[0,'energy']\n",
        "\n",
        "        dwave_annealer_tte = sample.info['timing']['qpu_sampling_time']/10**6\n",
        "    \n",
        "    return dwave_annealer_solution, dwave_annealer_value, dwave_annealer_tte"
      ]
    },
    {
      "cell_type": "markdown",
      "metadata": {
        "id": "w55WLMDYZBAc"
      },
      "source": [
        "### Get Linear and Quadratic coefficients"
      ]
    },
    {
      "cell_type": "code",
      "execution_count": null,
      "metadata": {
        "id": "mLzuCImoWcme"
      },
      "outputs": [],
      "source": [
        "def get_linear_quadratic_coeffs(n_agents, induced_subgraph_game):\n",
        "  G=nx.Graph()\n",
        "  G.add_nodes_from(np.arange(0,n_agents,1))\n",
        "  elist = [tuple((int(x)-1 for x in key.split(',')))+tuple([induced_subgraph_game[key]*-1]) for key in induced_subgraph_game]\n",
        "  G.add_weighted_edges_from(elist)\n",
        "  w = [[G.get_edge_data(i,j,default = {'weight': 0})['weight']  for j in range(n_agents)] for i in range(n_agents)]\n",
        "  w = np.array([np.array(row) for row in w])\n",
        "  max_cut = Maxcut(w)\n",
        "  qp = max_cut.to_quadratic_program()\n",
        "  linear = qp.objective.linear.coefficients.toarray(order=None, out=None)\n",
        "  quadratic = qp.objective.quadratic.coefficients.toarray(order=None, out=None)\n",
        "  linear = {'x_'+str(idx):-round(value,2) for idx,value in enumerate(linear[0])}\n",
        "  quadratic = {('x_'+str(iy),'x_'+str(ix)):-quadratic[iy, ix] for iy, ix in np.ndindex(quadratic.shape) if iy<ix}\n",
        "  return linear, quadratic"
      ]
    },
    {
      "cell_type": "markdown",
      "metadata": {
        "id": "WFutoWB4ZLo-"
      },
      "source": [
        "### Get QUBO matrix"
      ]
    },
    {
      "cell_type": "code",
      "execution_count": null,
      "metadata": {
        "id": "_yfSvp14Wcj3"
      },
      "outputs": [],
      "source": [
        "def get_qubo_matrix(linear, quadratic):\n",
        "  Q = np.zeros([len(linear),len(linear)])\n",
        "  #diagonal elements\n",
        "  for key,value in linear.items():\n",
        "    Q[int(key.split('_')[1]),int(key.split('_')[1])] = value\n",
        "  #non diagonal elements\n",
        "  for key,value in quadratic.items():\n",
        "    Q[int(key[0].split('_')[1]),int(key[1].split('_')[1])] = value\n",
        "    Q[int(key[1].split('_')[1]),int(key[0].split('_')[1])] = value\n",
        "  return Q"
      ]
    },
    {
      "cell_type": "markdown",
      "metadata": {
        "id": "LqDeyTp1a4Rz"
      },
      "source": [
        "### Run experiments with different combinations of distributions and problem sizes\n",
        "\n",
        "For comparitive analysis of Brute force, Eigensolver and QAOA solutions"
      ]
    },
    {
      "cell_type": "code",
      "execution_count": null,
      "metadata": {
        "id": "FTZBsgbamV4y"
      },
      "outputs": [],
      "source": [
        "import qiskit\n",
        "qiskit.utils.algorithm_globals.massive=True"
      ]
    },
    {
      "cell_type": "code",
      "execution_count": null,
      "metadata": {
        "id": "4Wwn9Zr0sRpJ"
      },
      "outputs": [],
      "source": [
        "def normal(size=1, mu=0, sigma=5, low=-10, high=10):\n",
        "    values = np.random.normal(mu, sigma, size)\n",
        "    #values = np.interp(values, (values.min(), values.max()), (low, high))\n",
        "    return values\n",
        "\n",
        "def uniform(size=1, low=-5, high=5):\n",
        "    values = np.random.normal(low, high, size)\n",
        "    #values = np.interp(values, (values.min(), values.max()), (low, high))\n",
        "    return values\n",
        "\n",
        "def laplace(size=1, loc=0, scale=5, low=-10, high=10):\n",
        "    values = np.random.laplace(loc, scale, size)\n",
        "    #values = np.interp(values, (values.min(), values.max()), (low, high))\n",
        "    return values\n",
        "\n",
        "\n",
        "def generate_induced_subgraph_game(distribution, n_agents, **kwargs):\n",
        "    induced_subgraph_game = {}\n",
        "    keys = list(itertools.combinations(range(1,n_agents+1), 2))\n",
        "    totalinteractions = len(keys)\n",
        "    values = distribution(totalinteractions, **kwargs)\n",
        "    for i,key in enumerate(keys):\n",
        "        induced_subgraph_game[','.join(map(str,key))] = round(values[i],2)\n",
        "    return induced_subgraph_game"
      ]
    },
    {
      "cell_type": "code",
      "execution_count": null,
      "metadata": {
        "colab": {
          "background_save": true,
          "base_uri": "https://localhost:8080/"
        },
        "id": "EzZIGLuboLYQ",
        "outputId": "46e08776-1a42-4e80-8bed-974b055a883f"
      },
      "outputs": [
        {
          "name": "stdout",
          "output_type": "stream",
          "text": [
            "Executing normal distribution:\n",
            "n = 10 | p (QAOA reps) = 1\n",
            "p (QAOA reps) = 2\n",
            "p (QAOA reps) = 3\n",
            "p (QAOA reps) = 4\n",
            "p (QAOA reps) = 5\n",
            "p (QAOA reps) = 6\n",
            "p (QAOA reps) = 7\n",
            "p (QAOA reps) = 8\n",
            "p (QAOA reps) = 9\n",
            "p (QAOA reps) = 10\n",
            "n = 11 | p (QAOA reps) = 1\n",
            "n = 12 | p (QAOA reps) = 1\n",
            "p (QAOA reps) = 2\n",
            "p (QAOA reps) = 3\n",
            "p (QAOA reps) = 4\n",
            "p (QAOA reps) = 5\n",
            "n = 13 | p (QAOA reps) = 1\n",
            "n = 14 | p (QAOA reps) = 1\n",
            "p (QAOA reps) = 2\n",
            "p (QAOA reps) = 3\n",
            "p (QAOA reps) = 4\n",
            "p (QAOA reps) = 5\n",
            "p (QAOA reps) = 6\n",
            "p (QAOA reps) = 7\n",
            "p (QAOA reps) = 8\n",
            "p (QAOA reps) = 9\n",
            "p (QAOA reps) = 10\n",
            "p (QAOA reps) = 11\n",
            "p (QAOA reps) = 12\n",
            "p (QAOA reps) = 13\n"
          ]
        }
      ],
      "source": [
        "from datetime import datetime\n",
        "timestamp = datetime.now().strftime(\"%m%d%Y%H%M%S\")\n",
        "\n",
        "table_contents = []\n",
        "\n",
        "distributions = [\n",
        "    normal,\n",
        "    #laplace\n",
        "]\n",
        "\n",
        "n_agents = np.arange(10,16).tolist()\n",
        "\n",
        "seed = 123\n",
        "\n",
        "# If 'True', checks QAOA for p>1 also\n",
        "QAOA_p_increment_flag = True\n",
        "\n",
        "report_filename = 'split_report_' +  str(seed) + '_' + timestamp + '.txt'\n",
        "\n",
        "for distribution in distributions:\n",
        "  print(f'Executing {distribution.__name__} distribution:',end='\\n')\n",
        "  for n in n_agents:\n",
        "    print(f'n = {n} |',end=' ')\n",
        "    np.random.seed(seed=seed)\n",
        "    induced_subgraph_game = generate_induced_subgraph_game(distribution,n)\n",
        "\n",
        "    start_time = time.time()\n",
        "    #print(\" - Running Brute Force\", end=\"\")\n",
        "    bruteforce_solution, bruteforce_value = solve_brute_force(n, induced_subgraph_game) # np.repeat(0,n), 0.0\n",
        "    bruteforce_tte = (time.time() - start_time)\n",
        "    #print(' (', time.strftime('%H:%M:%S', time.gmtime(bruteforce_tte)), ')', end = \"\")\n",
        "\n",
        "    start_time = time.time()\n",
        "    qiskit_eigensolver_solution, qiskit_eigensolver_value = solve_qiskit_classical_eigensolver(n, induced_subgraph_game) # np.repeat(0,n), 0.0\n",
        "    qiskit_eigensolver_tte = (time.time() - start_time)\n",
        "    qiskit_eigensolver_correctness = ((bruteforce_solution==qiskit_eigensolver_solution).all() or (bruteforce_solution==(1-qiskit_eigensolver_solution)).all())\n",
        "\n",
        "    reps = 0\n",
        "    qiskit_qaoa_correctness = False\n",
        "    while(not qiskit_qaoa_correctness and (QAOA_p_increment_flag or not reps)):\n",
        "      reps = reps+1\n",
        "      start_time = time.time()\n",
        "      print('p (QAOA reps) =',reps)\n",
        "      qiskit_qaoa_solution, qiskit_qaoa_value = solve_qiskit_QAOA(n, induced_subgraph_game, reps, simulator = 'aer_simulator_matrix_product_state')  # np.repeat(0,n), 0.0\n",
        "      qiskit_qaoa_tte = (time.time() - start_time)\n",
        "      qiskit_qaoa_correctness = ((bruteforce_solution==qiskit_qaoa_solution).all() or (bruteforce_solution==(1-qiskit_qaoa_solution)).all())\n",
        "      row = []\n",
        "      row.append(distribution.__name__)\n",
        "      row.append(n)\n",
        "      row.append(''.join(map(str,map(int,bruteforce_solution))))\n",
        "      row.append(bruteforce_value)\n",
        "      row.append(bruteforce_tte)\n",
        "      row.append(''.join(map(str,map(int,qiskit_eigensolver_solution))))\n",
        "      row.append(qiskit_eigensolver_value)\n",
        "      row.append(qiskit_eigensolver_tte)\n",
        "      row.append(qiskit_eigensolver_correctness)\n",
        "      row.append(''.join(map(str,map(int,qiskit_qaoa_solution))))\n",
        "      row.append(qiskit_qaoa_value)\n",
        "      row.append(qiskit_qaoa_tte)\n",
        "      row.append(reps)\n",
        "      row.append(qiskit_qaoa_correctness)\n",
        "      report_file_obj = open(report_filename,'a+')\n",
        "      report_file_obj.write('__'.join(map(str,row))+'\\n')\n",
        "      report_file_obj.close()\n",
        "      table_contents.append(row)\n",
        "  print('\\n')"
      ]
    },
    {
      "cell_type": "markdown",
      "metadata": {
        "id": "t4J_ckxhui9_"
      },
      "source": [
        "## Display results from generated report file"
      ]
    },
    {
      "cell_type": "code",
      "execution_count": null,
      "metadata": {
        "colab": {
          "base_uri": "https://localhost:8080/",
          "height": 35
        },
        "id": "2RL1yz3JA4Sg",
        "outputId": "1301bb50-2248-45b7-cdfd-de80c74df27f"
      },
      "outputs": [
        {
          "data": {
            "application/vnd.google.colaboratory.intrinsic+json": {
              "type": "string"
            },
            "text/plain": [
              "'split_report_123_01022023211457.txt'"
            ]
          },
          "execution_count": 13,
          "metadata": {},
          "output_type": "execute_result"
        }
      ],
      "source": [
        "report_filename = 'split_report_' +  str(seed) + '_' + timestamp + '.txt'\n",
        "report_filename"
      ]
    },
    {
      "cell_type": "code",
      "execution_count": null,
      "metadata": {
        "id": "JMGbo_d_u53J"
      },
      "outputs": [],
      "source": [
        "report_file_obj = open(report_filename,'r')\n",
        "table_contents = [line.split('__') for line in report_file_obj.readlines()]"
      ]
    },
    {
      "cell_type": "code",
      "execution_count": null,
      "metadata": {
        "colab": {
          "base_uri": "https://localhost:8080/",
          "height": 745
        },
        "id": "1J50K7-DCTlb",
        "outputId": "36da00f2-9c69-47b7-820d-fb33efc8cf35"
      },
      "outputs": [
        {
          "data": {
            "text/html": [
              "<style type=\"text/css\">\n",
              "#T_1c9cc_ td:hover {\n",
              "  background-color: grey;\n",
              "}\n",
              "#T_1c9cc_ .index_name {\n",
              "  font-style: italic;\n",
              "  color: darkgrey;\n",
              "  font-weight: normal;\n",
              "}\n",
              "#T_1c9cc_ th:not(.index_name) {\n",
              "  background-color: #1D1D1D;\n",
              "  color: white;\n",
              "}\n",
              "#T_1c9cc_ th.col1 {\n",
              "  border-left: 1px solid white;\n",
              "}\n",
              "#T_1c9cc_ td.col1 {\n",
              "  border-left: 1px solid white;\n",
              "}\n",
              "#T_1c9cc_ th.col2 {\n",
              "  border-left: 1px solid white;\n",
              "}\n",
              "#T_1c9cc_ td.col2 {\n",
              "  border-left: 1px solid white;\n",
              "  background-color: #186A3B;\n",
              "}\n",
              "#T_1c9cc_ th.col3 {\n",
              "  border-left: 1px solid black;\n",
              "}\n",
              "#T_1c9cc_ td.col3 {\n",
              "  border-left: 1px solid black;\n",
              "  background-color: #784212;\n",
              "}\n",
              "#T_1c9cc_ th.col4 {\n",
              "  border-left: 1px solid black;\n",
              "}\n",
              "#T_1c9cc_ td.col4 {\n",
              "  border-left: 1px solid black;\n",
              "  background-color: #154360;\n",
              "}\n",
              "#T_1c9cc_ th.col5 {\n",
              "  border-left: 1px solid white;\n",
              "}\n",
              "#T_1c9cc_ td.col5 {\n",
              "  border-left: 1px solid white;\n",
              "  background-color: #186A3B;\n",
              "}\n",
              "#T_1c9cc_ th.col6 {\n",
              "  border-left: 1px solid black;\n",
              "}\n",
              "#T_1c9cc_ td.col6 {\n",
              "  border-left: 1px solid black;\n",
              "  background-color: #784212;\n",
              "}\n",
              "#T_1c9cc_ th.col7 {\n",
              "  border-left: 1px solid black;\n",
              "}\n",
              "#T_1c9cc_ td.col7 {\n",
              "  border-left: 1px solid black;\n",
              "  background-color: #154360;\n",
              "}\n",
              "#T_1c9cc_ th.col8 {\n",
              "  border-left: 1px solid black;\n",
              "}\n",
              "#T_1c9cc_ td.col8 {\n",
              "  border-left: 1px solid black;\n",
              "  background-color: #693f3f;\n",
              "}\n",
              "#T_1c9cc_ th.col9 {\n",
              "  border-left: 1px solid white;\n",
              "}\n",
              "#T_1c9cc_ td.col9 {\n",
              "  border-left: 1px solid white;\n",
              "  background-color: #186A3B;\n",
              "}\n",
              "#T_1c9cc_ th.col10 {\n",
              "  border-left: 1px solid black;\n",
              "}\n",
              "#T_1c9cc_ td.col10 {\n",
              "  border-left: 1px solid black;\n",
              "  background-color: #784212;\n",
              "}\n",
              "#T_1c9cc_ th.col11 {\n",
              "  border-left: 1px solid black;\n",
              "}\n",
              "#T_1c9cc_ td.col11 {\n",
              "  border-left: 1px solid black;\n",
              "  background-color: #154360;\n",
              "}\n",
              "#T_1c9cc_ th.col12 {\n",
              "  border-left: 1px solid black;\n",
              "}\n",
              "#T_1c9cc_ td.col12 {\n",
              "  border-left: 1px solid black;\n",
              "}\n",
              "#T_1c9cc_ th.col13 {\n",
              "  border-left: 1px solid black;\n",
              "}\n",
              "#T_1c9cc_ td.col13 {\n",
              "  border-left: 1px solid black;\n",
              "  background-color: #693f3f;\n",
              "}\n",
              "#T_1c9cc_ th.col-1 {\n",
              "  border-left: 1px solid white;\n",
              "}\n",
              "#T_1c9cc_ td.col-1 {\n",
              "  border-left: 1px solid white;\n",
              "  background-color: #186A3B;\n",
              "}\n",
              "#T_1c9cc_ th.col-1 {\n",
              "  border-left: 1px solid black;\n",
              "}\n",
              "#T_1c9cc_ td.col-1 {\n",
              "  border-left: 1px solid black;\n",
              "  background-color: #784212;\n",
              "}\n",
              "#T_1c9cc_ th.col-1 {\n",
              "  border-left: 1px solid black;\n",
              "}\n",
              "#T_1c9cc_ td.col-1 {\n",
              "  border-left: 1px solid black;\n",
              "  background-color: #154360;\n",
              "}\n",
              "#T_1c9cc_ th.col-1 {\n",
              "  border-left: 1px solid black;\n",
              "}\n",
              "#T_1c9cc_ td.col-1 {\n",
              "  border-left: 1px solid black;\n",
              "  background-color: #693f3f;\n",
              "}\n",
              "#T_1c9cc_row0_col0, #T_1c9cc_row0_col1, #T_1c9cc_row0_col2, #T_1c9cc_row0_col3, #T_1c9cc_row0_col4, #T_1c9cc_row0_col5, #T_1c9cc_row0_col6, #T_1c9cc_row0_col7, #T_1c9cc_row0_col8, #T_1c9cc_row0_col9, #T_1c9cc_row0_col10, #T_1c9cc_row0_col11, #T_1c9cc_row0_col12, #T_1c9cc_row0_col13, #T_1c9cc_row1_col0, #T_1c9cc_row1_col1, #T_1c9cc_row1_col2, #T_1c9cc_row1_col3, #T_1c9cc_row1_col4, #T_1c9cc_row1_col5, #T_1c9cc_row1_col6, #T_1c9cc_row1_col7, #T_1c9cc_row1_col8, #T_1c9cc_row1_col9, #T_1c9cc_row1_col10, #T_1c9cc_row1_col11, #T_1c9cc_row1_col12, #T_1c9cc_row1_col13, #T_1c9cc_row2_col0, #T_1c9cc_row2_col1, #T_1c9cc_row2_col2, #T_1c9cc_row2_col3, #T_1c9cc_row2_col4, #T_1c9cc_row2_col5, #T_1c9cc_row2_col6, #T_1c9cc_row2_col7, #T_1c9cc_row2_col8, #T_1c9cc_row2_col9, #T_1c9cc_row2_col10, #T_1c9cc_row2_col11, #T_1c9cc_row2_col12, #T_1c9cc_row2_col13, #T_1c9cc_row3_col0, #T_1c9cc_row3_col1, #T_1c9cc_row3_col2, #T_1c9cc_row3_col3, #T_1c9cc_row3_col4, #T_1c9cc_row3_col5, #T_1c9cc_row3_col6, #T_1c9cc_row3_col7, #T_1c9cc_row3_col8, #T_1c9cc_row3_col9, #T_1c9cc_row3_col10, #T_1c9cc_row3_col11, #T_1c9cc_row3_col12, #T_1c9cc_row3_col13, #T_1c9cc_row4_col0, #T_1c9cc_row4_col1, #T_1c9cc_row4_col2, #T_1c9cc_row4_col3, #T_1c9cc_row4_col4, #T_1c9cc_row4_col5, #T_1c9cc_row4_col6, #T_1c9cc_row4_col7, #T_1c9cc_row4_col8, #T_1c9cc_row4_col9, #T_1c9cc_row4_col10, #T_1c9cc_row4_col11, #T_1c9cc_row4_col12, #T_1c9cc_row4_col13, #T_1c9cc_row5_col0, #T_1c9cc_row5_col1, #T_1c9cc_row5_col2, #T_1c9cc_row5_col3, #T_1c9cc_row5_col4, #T_1c9cc_row5_col5, #T_1c9cc_row5_col6, #T_1c9cc_row5_col7, #T_1c9cc_row5_col8, #T_1c9cc_row5_col9, #T_1c9cc_row5_col10, #T_1c9cc_row5_col11, #T_1c9cc_row5_col12, #T_1c9cc_row5_col13, #T_1c9cc_row6_col0, #T_1c9cc_row6_col1, #T_1c9cc_row6_col2, #T_1c9cc_row6_col3, #T_1c9cc_row6_col4, #T_1c9cc_row6_col5, #T_1c9cc_row6_col6, #T_1c9cc_row6_col7, #T_1c9cc_row6_col8, #T_1c9cc_row6_col9, #T_1c9cc_row6_col10, #T_1c9cc_row6_col11, #T_1c9cc_row6_col12, #T_1c9cc_row6_col13, #T_1c9cc_row7_col0, #T_1c9cc_row7_col1, #T_1c9cc_row7_col2, #T_1c9cc_row7_col3, #T_1c9cc_row7_col4, #T_1c9cc_row7_col5, #T_1c9cc_row7_col6, #T_1c9cc_row7_col7, #T_1c9cc_row7_col8, #T_1c9cc_row7_col9, #T_1c9cc_row7_col10, #T_1c9cc_row7_col11, #T_1c9cc_row7_col12, #T_1c9cc_row7_col13, #T_1c9cc_row8_col0, #T_1c9cc_row8_col1, #T_1c9cc_row8_col2, #T_1c9cc_row8_col3, #T_1c9cc_row8_col4, #T_1c9cc_row8_col5, #T_1c9cc_row8_col6, #T_1c9cc_row8_col7, #T_1c9cc_row8_col8, #T_1c9cc_row8_col9, #T_1c9cc_row8_col10, #T_1c9cc_row8_col11, #T_1c9cc_row8_col12, #T_1c9cc_row8_col13, #T_1c9cc_row9_col0, #T_1c9cc_row9_col1, #T_1c9cc_row9_col2, #T_1c9cc_row9_col3, #T_1c9cc_row9_col4, #T_1c9cc_row9_col5, #T_1c9cc_row9_col6, #T_1c9cc_row9_col7, #T_1c9cc_row9_col8, #T_1c9cc_row9_col9, #T_1c9cc_row9_col10, #T_1c9cc_row9_col11, #T_1c9cc_row9_col12, #T_1c9cc_row9_col13, #T_1c9cc_row10_col0, #T_1c9cc_row10_col1, #T_1c9cc_row10_col2, #T_1c9cc_row10_col3, #T_1c9cc_row10_col4, #T_1c9cc_row10_col5, #T_1c9cc_row10_col6, #T_1c9cc_row10_col7, #T_1c9cc_row10_col8, #T_1c9cc_row10_col9, #T_1c9cc_row10_col10, #T_1c9cc_row10_col11, #T_1c9cc_row10_col12, #T_1c9cc_row10_col13, #T_1c9cc_row11_col0, #T_1c9cc_row11_col1, #T_1c9cc_row11_col2, #T_1c9cc_row11_col3, #T_1c9cc_row11_col4, #T_1c9cc_row11_col5, #T_1c9cc_row11_col6, #T_1c9cc_row11_col7, #T_1c9cc_row11_col8, #T_1c9cc_row11_col9, #T_1c9cc_row11_col10, #T_1c9cc_row11_col11, #T_1c9cc_row11_col12, #T_1c9cc_row11_col13, #T_1c9cc_row12_col0, #T_1c9cc_row12_col1, #T_1c9cc_row12_col2, #T_1c9cc_row12_col3, #T_1c9cc_row12_col4, #T_1c9cc_row12_col5, #T_1c9cc_row12_col6, #T_1c9cc_row12_col7, #T_1c9cc_row12_col8, #T_1c9cc_row12_col9, #T_1c9cc_row12_col10, #T_1c9cc_row12_col11, #T_1c9cc_row12_col12, #T_1c9cc_row12_col13, #T_1c9cc_row13_col0, #T_1c9cc_row13_col1, #T_1c9cc_row13_col2, #T_1c9cc_row13_col3, #T_1c9cc_row13_col4, #T_1c9cc_row13_col5, #T_1c9cc_row13_col6, #T_1c9cc_row13_col7, #T_1c9cc_row13_col8, #T_1c9cc_row13_col9, #T_1c9cc_row13_col10, #T_1c9cc_row13_col11, #T_1c9cc_row13_col12, #T_1c9cc_row13_col13, #T_1c9cc_row14_col0, #T_1c9cc_row14_col1, #T_1c9cc_row14_col2, #T_1c9cc_row14_col3, #T_1c9cc_row14_col4, #T_1c9cc_row14_col5, #T_1c9cc_row14_col6, #T_1c9cc_row14_col7, #T_1c9cc_row14_col8, #T_1c9cc_row14_col9, #T_1c9cc_row14_col10, #T_1c9cc_row14_col11, #T_1c9cc_row14_col12, #T_1c9cc_row14_col13, #T_1c9cc_row15_col0, #T_1c9cc_row15_col1, #T_1c9cc_row15_col2, #T_1c9cc_row15_col3, #T_1c9cc_row15_col4, #T_1c9cc_row15_col5, #T_1c9cc_row15_col6, #T_1c9cc_row15_col7, #T_1c9cc_row15_col8, #T_1c9cc_row15_col9, #T_1c9cc_row15_col10, #T_1c9cc_row15_col11, #T_1c9cc_row15_col12, #T_1c9cc_row15_col13, #T_1c9cc_row16_col0, #T_1c9cc_row16_col1, #T_1c9cc_row16_col2, #T_1c9cc_row16_col3, #T_1c9cc_row16_col4, #T_1c9cc_row16_col5, #T_1c9cc_row16_col6, #T_1c9cc_row16_col7, #T_1c9cc_row16_col8, #T_1c9cc_row16_col9, #T_1c9cc_row16_col10, #T_1c9cc_row16_col11, #T_1c9cc_row16_col12, #T_1c9cc_row16_col13, #T_1c9cc_row17_col0, #T_1c9cc_row17_col1, #T_1c9cc_row17_col2, #T_1c9cc_row17_col3, #T_1c9cc_row17_col4, #T_1c9cc_row17_col5, #T_1c9cc_row17_col6, #T_1c9cc_row17_col7, #T_1c9cc_row17_col8, #T_1c9cc_row17_col9, #T_1c9cc_row17_col10, #T_1c9cc_row17_col11, #T_1c9cc_row17_col12, #T_1c9cc_row17_col13, #T_1c9cc_row18_col0, #T_1c9cc_row18_col1, #T_1c9cc_row18_col2, #T_1c9cc_row18_col3, #T_1c9cc_row18_col4, #T_1c9cc_row18_col5, #T_1c9cc_row18_col6, #T_1c9cc_row18_col7, #T_1c9cc_row18_col8, #T_1c9cc_row18_col9, #T_1c9cc_row18_col10, #T_1c9cc_row18_col11, #T_1c9cc_row18_col12, #T_1c9cc_row18_col13 {\n",
              "  color: #A16060;\n",
              "}\n",
              "</style>\n",
              "<table id=\"T_1c9cc_\" class=\"dataframe\">\n",
              "  <thead>\n",
              "    <tr>\n",
              "      <th class=\"blank level0\" >&nbsp;</th>\n",
              "      <th class=\"col_heading level0 col0\" >Distribution</th>\n",
              "      <th class=\"col_heading level0 col1\" >No. of Agents</th>\n",
              "      <th class=\"col_heading level0 col2\" colspan=\"3\">Brute Force Solution</th>\n",
              "      <th class=\"col_heading level0 col5\" colspan=\"4\">Qiskit Eigensolver</th>\n",
              "      <th class=\"col_heading level0 col9\" colspan=\"5\">Qiskit QAOA</th>\n",
              "    </tr>\n",
              "    <tr>\n",
              "      <th class=\"blank level1\" >&nbsp;</th>\n",
              "      <th class=\"col_heading level1 col0\" ></th>\n",
              "      <th class=\"col_heading level1 col1\" ></th>\n",
              "      <th class=\"col_heading level1 col2\" >Result</th>\n",
              "      <th class=\"col_heading level1 col3\" >Value</th>\n",
              "      <th class=\"col_heading level1 col4\" >TTE</th>\n",
              "      <th class=\"col_heading level1 col5\" >Result</th>\n",
              "      <th class=\"col_heading level1 col6\" >Value</th>\n",
              "      <th class=\"col_heading level1 col7\" >TTE</th>\n",
              "      <th class=\"col_heading level1 col8\" >Correctness</th>\n",
              "      <th class=\"col_heading level1 col9\" >Result</th>\n",
              "      <th class=\"col_heading level1 col10\" >Value</th>\n",
              "      <th class=\"col_heading level1 col11\" >TTE</th>\n",
              "      <th class=\"col_heading level1 col12\" >reps (p)</th>\n",
              "      <th class=\"col_heading level1 col13\" >Correctness</th>\n",
              "    </tr>\n",
              "  </thead>\n",
              "  <tbody>\n",
              "    <tr>\n",
              "      <th id=\"T_1c9cc_level0_row0\" class=\"row_heading level0 row0\" >0</th>\n",
              "      <td id=\"T_1c9cc_row0_col0\" class=\"data row0 col0\" >normal</td>\n",
              "      <td id=\"T_1c9cc_row0_col1\" class=\"data row0 col1\" >15</td>\n",
              "      <td id=\"T_1c9cc_row0_col2\" class=\"data row0 col2\" >101000100110000</td>\n",
              "      <td id=\"T_1c9cc_row0_col3\" class=\"data row0 col3\" >-104.860000</td>\n",
              "      <td id=\"T_1c9cc_row0_col4\" class=\"data row0 col4\" >3.790000</td>\n",
              "      <td id=\"T_1c9cc_row0_col5\" class=\"data row0 col5\" >101000100110000</td>\n",
              "      <td id=\"T_1c9cc_row0_col6\" class=\"data row0 col6\" >-104.860000</td>\n",
              "      <td id=\"T_1c9cc_row0_col7\" class=\"data row0 col7\" >2.360000</td>\n",
              "      <td id=\"T_1c9cc_row0_col8\" class=\"data row0 col8\" >True</td>\n",
              "      <td id=\"T_1c9cc_row0_col9\" class=\"data row0 col9\" >111000100110000</td>\n",
              "      <td id=\"T_1c9cc_row0_col10\" class=\"data row0 col10\" >-78.630000</td>\n",
              "      <td id=\"T_1c9cc_row0_col11\" class=\"data row0 col11\" >8.480000</td>\n",
              "      <td id=\"T_1c9cc_row0_col12\" class=\"data row0 col12\" >1.000000</td>\n",
              "      <td id=\"T_1c9cc_row0_col13\" class=\"data row0 col13\" >False\n",
              "</td>\n",
              "    </tr>\n",
              "    <tr>\n",
              "      <th id=\"T_1c9cc_level0_row1\" class=\"row_heading level0 row1\" >1</th>\n",
              "      <td id=\"T_1c9cc_row1_col0\" class=\"data row1 col0\" >normal</td>\n",
              "      <td id=\"T_1c9cc_row1_col1\" class=\"data row1 col1\" >15</td>\n",
              "      <td id=\"T_1c9cc_row1_col2\" class=\"data row1 col2\" >101000100110000</td>\n",
              "      <td id=\"T_1c9cc_row1_col3\" class=\"data row1 col3\" >-104.860000</td>\n",
              "      <td id=\"T_1c9cc_row1_col4\" class=\"data row1 col4\" >3.790000</td>\n",
              "      <td id=\"T_1c9cc_row1_col5\" class=\"data row1 col5\" >101000100110000</td>\n",
              "      <td id=\"T_1c9cc_row1_col6\" class=\"data row1 col6\" >-104.860000</td>\n",
              "      <td id=\"T_1c9cc_row1_col7\" class=\"data row1 col7\" >2.360000</td>\n",
              "      <td id=\"T_1c9cc_row1_col8\" class=\"data row1 col8\" >True</td>\n",
              "      <td id=\"T_1c9cc_row1_col9\" class=\"data row1 col9\" >010111011011111</td>\n",
              "      <td id=\"T_1c9cc_row1_col10\" class=\"data row1 col10\" >-82.050000</td>\n",
              "      <td id=\"T_1c9cc_row1_col11\" class=\"data row1 col11\" >13.580000</td>\n",
              "      <td id=\"T_1c9cc_row1_col12\" class=\"data row1 col12\" >2.000000</td>\n",
              "      <td id=\"T_1c9cc_row1_col13\" class=\"data row1 col13\" >False\n",
              "</td>\n",
              "    </tr>\n",
              "    <tr>\n",
              "      <th id=\"T_1c9cc_level0_row2\" class=\"row_heading level0 row2\" >2</th>\n",
              "      <td id=\"T_1c9cc_row2_col0\" class=\"data row2 col0\" >normal</td>\n",
              "      <td id=\"T_1c9cc_row2_col1\" class=\"data row2 col1\" >15</td>\n",
              "      <td id=\"T_1c9cc_row2_col2\" class=\"data row2 col2\" >101000100110000</td>\n",
              "      <td id=\"T_1c9cc_row2_col3\" class=\"data row2 col3\" >-104.860000</td>\n",
              "      <td id=\"T_1c9cc_row2_col4\" class=\"data row2 col4\" >3.790000</td>\n",
              "      <td id=\"T_1c9cc_row2_col5\" class=\"data row2 col5\" >101000100110000</td>\n",
              "      <td id=\"T_1c9cc_row2_col6\" class=\"data row2 col6\" >-104.860000</td>\n",
              "      <td id=\"T_1c9cc_row2_col7\" class=\"data row2 col7\" >2.360000</td>\n",
              "      <td id=\"T_1c9cc_row2_col8\" class=\"data row2 col8\" >True</td>\n",
              "      <td id=\"T_1c9cc_row2_col9\" class=\"data row2 col9\" >010111010111101</td>\n",
              "      <td id=\"T_1c9cc_row2_col10\" class=\"data row2 col10\" >-82.610000</td>\n",
              "      <td id=\"T_1c9cc_row2_col11\" class=\"data row2 col11\" >17.610000</td>\n",
              "      <td id=\"T_1c9cc_row2_col12\" class=\"data row2 col12\" >3.000000</td>\n",
              "      <td id=\"T_1c9cc_row2_col13\" class=\"data row2 col13\" >False\n",
              "</td>\n",
              "    </tr>\n",
              "    <tr>\n",
              "      <th id=\"T_1c9cc_level0_row3\" class=\"row_heading level0 row3\" >3</th>\n",
              "      <td id=\"T_1c9cc_row3_col0\" class=\"data row3 col0\" >normal</td>\n",
              "      <td id=\"T_1c9cc_row3_col1\" class=\"data row3 col1\" >15</td>\n",
              "      <td id=\"T_1c9cc_row3_col2\" class=\"data row3 col2\" >101000100110000</td>\n",
              "      <td id=\"T_1c9cc_row3_col3\" class=\"data row3 col3\" >-104.860000</td>\n",
              "      <td id=\"T_1c9cc_row3_col4\" class=\"data row3 col4\" >3.790000</td>\n",
              "      <td id=\"T_1c9cc_row3_col5\" class=\"data row3 col5\" >101000100110000</td>\n",
              "      <td id=\"T_1c9cc_row3_col6\" class=\"data row3 col6\" >-104.860000</td>\n",
              "      <td id=\"T_1c9cc_row3_col7\" class=\"data row3 col7\" >2.360000</td>\n",
              "      <td id=\"T_1c9cc_row3_col8\" class=\"data row3 col8\" >True</td>\n",
              "      <td id=\"T_1c9cc_row3_col9\" class=\"data row3 col9\" >010111011111111</td>\n",
              "      <td id=\"T_1c9cc_row3_col10\" class=\"data row3 col10\" >-84.810000</td>\n",
              "      <td id=\"T_1c9cc_row3_col11\" class=\"data row3 col11\" >23.000000</td>\n",
              "      <td id=\"T_1c9cc_row3_col12\" class=\"data row3 col12\" >4.000000</td>\n",
              "      <td id=\"T_1c9cc_row3_col13\" class=\"data row3 col13\" >False\n",
              "</td>\n",
              "    </tr>\n",
              "    <tr>\n",
              "      <th id=\"T_1c9cc_level0_row4\" class=\"row_heading level0 row4\" >4</th>\n",
              "      <td id=\"T_1c9cc_row4_col0\" class=\"data row4 col0\" >normal</td>\n",
              "      <td id=\"T_1c9cc_row4_col1\" class=\"data row4 col1\" >15</td>\n",
              "      <td id=\"T_1c9cc_row4_col2\" class=\"data row4 col2\" >101000100110000</td>\n",
              "      <td id=\"T_1c9cc_row4_col3\" class=\"data row4 col3\" >-104.860000</td>\n",
              "      <td id=\"T_1c9cc_row4_col4\" class=\"data row4 col4\" >3.790000</td>\n",
              "      <td id=\"T_1c9cc_row4_col5\" class=\"data row4 col5\" >101000100110000</td>\n",
              "      <td id=\"T_1c9cc_row4_col6\" class=\"data row4 col6\" >-104.860000</td>\n",
              "      <td id=\"T_1c9cc_row4_col7\" class=\"data row4 col7\" >2.360000</td>\n",
              "      <td id=\"T_1c9cc_row4_col8\" class=\"data row4 col8\" >True</td>\n",
              "      <td id=\"T_1c9cc_row4_col9\" class=\"data row4 col9\" >010011111001010</td>\n",
              "      <td id=\"T_1c9cc_row4_col10\" class=\"data row4 col10\" >-72.180000</td>\n",
              "      <td id=\"T_1c9cc_row4_col11\" class=\"data row4 col11\" >71.100000</td>\n",
              "      <td id=\"T_1c9cc_row4_col12\" class=\"data row4 col12\" >5.000000</td>\n",
              "      <td id=\"T_1c9cc_row4_col13\" class=\"data row4 col13\" >False\n",
              "</td>\n",
              "    </tr>\n",
              "    <tr>\n",
              "      <th id=\"T_1c9cc_level0_row5\" class=\"row_heading level0 row5\" >5</th>\n",
              "      <td id=\"T_1c9cc_row5_col0\" class=\"data row5 col0\" >normal</td>\n",
              "      <td id=\"T_1c9cc_row5_col1\" class=\"data row5 col1\" >15</td>\n",
              "      <td id=\"T_1c9cc_row5_col2\" class=\"data row5 col2\" >101000100110000</td>\n",
              "      <td id=\"T_1c9cc_row5_col3\" class=\"data row5 col3\" >-104.860000</td>\n",
              "      <td id=\"T_1c9cc_row5_col4\" class=\"data row5 col4\" >3.790000</td>\n",
              "      <td id=\"T_1c9cc_row5_col5\" class=\"data row5 col5\" >101000100110000</td>\n",
              "      <td id=\"T_1c9cc_row5_col6\" class=\"data row5 col6\" >-104.860000</td>\n",
              "      <td id=\"T_1c9cc_row5_col7\" class=\"data row5 col7\" >2.360000</td>\n",
              "      <td id=\"T_1c9cc_row5_col8\" class=\"data row5 col8\" >True</td>\n",
              "      <td id=\"T_1c9cc_row5_col9\" class=\"data row5 col9\" >000110011000111</td>\n",
              "      <td id=\"T_1c9cc_row5_col10\" class=\"data row5 col10\" >-75.350000</td>\n",
              "      <td id=\"T_1c9cc_row5_col11\" class=\"data row5 col11\" >33.900000</td>\n",
              "      <td id=\"T_1c9cc_row5_col12\" class=\"data row5 col12\" >6.000000</td>\n",
              "      <td id=\"T_1c9cc_row5_col13\" class=\"data row5 col13\" >False\n",
              "</td>\n",
              "    </tr>\n",
              "    <tr>\n",
              "      <th id=\"T_1c9cc_level0_row6\" class=\"row_heading level0 row6\" >6</th>\n",
              "      <td id=\"T_1c9cc_row6_col0\" class=\"data row6 col0\" >normal</td>\n",
              "      <td id=\"T_1c9cc_row6_col1\" class=\"data row6 col1\" >15</td>\n",
              "      <td id=\"T_1c9cc_row6_col2\" class=\"data row6 col2\" >101000100110000</td>\n",
              "      <td id=\"T_1c9cc_row6_col3\" class=\"data row6 col3\" >-104.860000</td>\n",
              "      <td id=\"T_1c9cc_row6_col4\" class=\"data row6 col4\" >3.790000</td>\n",
              "      <td id=\"T_1c9cc_row6_col5\" class=\"data row6 col5\" >101000100110000</td>\n",
              "      <td id=\"T_1c9cc_row6_col6\" class=\"data row6 col6\" >-104.860000</td>\n",
              "      <td id=\"T_1c9cc_row6_col7\" class=\"data row6 col7\" >2.360000</td>\n",
              "      <td id=\"T_1c9cc_row6_col8\" class=\"data row6 col8\" >True</td>\n",
              "      <td id=\"T_1c9cc_row6_col9\" class=\"data row6 col9\" >010110011001111</td>\n",
              "      <td id=\"T_1c9cc_row6_col10\" class=\"data row6 col10\" >-91.180000</td>\n",
              "      <td id=\"T_1c9cc_row6_col11\" class=\"data row6 col11\" >92.510000</td>\n",
              "      <td id=\"T_1c9cc_row6_col12\" class=\"data row6 col12\" >7.000000</td>\n",
              "      <td id=\"T_1c9cc_row6_col13\" class=\"data row6 col13\" >False\n",
              "</td>\n",
              "    </tr>\n",
              "    <tr>\n",
              "      <th id=\"T_1c9cc_level0_row7\" class=\"row_heading level0 row7\" >7</th>\n",
              "      <td id=\"T_1c9cc_row7_col0\" class=\"data row7 col0\" >normal</td>\n",
              "      <td id=\"T_1c9cc_row7_col1\" class=\"data row7 col1\" >15</td>\n",
              "      <td id=\"T_1c9cc_row7_col2\" class=\"data row7 col2\" >101000100110000</td>\n",
              "      <td id=\"T_1c9cc_row7_col3\" class=\"data row7 col3\" >-104.860000</td>\n",
              "      <td id=\"T_1c9cc_row7_col4\" class=\"data row7 col4\" >3.790000</td>\n",
              "      <td id=\"T_1c9cc_row7_col5\" class=\"data row7 col5\" >101000100110000</td>\n",
              "      <td id=\"T_1c9cc_row7_col6\" class=\"data row7 col6\" >-104.860000</td>\n",
              "      <td id=\"T_1c9cc_row7_col7\" class=\"data row7 col7\" >2.360000</td>\n",
              "      <td id=\"T_1c9cc_row7_col8\" class=\"data row7 col8\" >True</td>\n",
              "      <td id=\"T_1c9cc_row7_col9\" class=\"data row7 col9\" >001001100010000</td>\n",
              "      <td id=\"T_1c9cc_row7_col10\" class=\"data row7 col10\" >-70.590000</td>\n",
              "      <td id=\"T_1c9cc_row7_col11\" class=\"data row7 col11\" >42.310000</td>\n",
              "      <td id=\"T_1c9cc_row7_col12\" class=\"data row7 col12\" >8.000000</td>\n",
              "      <td id=\"T_1c9cc_row7_col13\" class=\"data row7 col13\" >False\n",
              "</td>\n",
              "    </tr>\n",
              "    <tr>\n",
              "      <th id=\"T_1c9cc_level0_row8\" class=\"row_heading level0 row8\" >8</th>\n",
              "      <td id=\"T_1c9cc_row8_col0\" class=\"data row8 col0\" >normal</td>\n",
              "      <td id=\"T_1c9cc_row8_col1\" class=\"data row8 col1\" >15</td>\n",
              "      <td id=\"T_1c9cc_row8_col2\" class=\"data row8 col2\" >101000100110000</td>\n",
              "      <td id=\"T_1c9cc_row8_col3\" class=\"data row8 col3\" >-104.860000</td>\n",
              "      <td id=\"T_1c9cc_row8_col4\" class=\"data row8 col4\" >3.790000</td>\n",
              "      <td id=\"T_1c9cc_row8_col5\" class=\"data row8 col5\" >101000100110000</td>\n",
              "      <td id=\"T_1c9cc_row8_col6\" class=\"data row8 col6\" >-104.860000</td>\n",
              "      <td id=\"T_1c9cc_row8_col7\" class=\"data row8 col7\" >2.360000</td>\n",
              "      <td id=\"T_1c9cc_row8_col8\" class=\"data row8 col8\" >True</td>\n",
              "      <td id=\"T_1c9cc_row8_col9\" class=\"data row8 col9\" >010110011100111</td>\n",
              "      <td id=\"T_1c9cc_row8_col10\" class=\"data row8 col10\" >-85.160000</td>\n",
              "      <td id=\"T_1c9cc_row8_col11\" class=\"data row8 col11\" >50.710000</td>\n",
              "      <td id=\"T_1c9cc_row8_col12\" class=\"data row8 col12\" >9.000000</td>\n",
              "      <td id=\"T_1c9cc_row8_col13\" class=\"data row8 col13\" >False\n",
              "</td>\n",
              "    </tr>\n",
              "    <tr>\n",
              "      <th id=\"T_1c9cc_level0_row9\" class=\"row_heading level0 row9\" >9</th>\n",
              "      <td id=\"T_1c9cc_row9_col0\" class=\"data row9 col0\" >normal</td>\n",
              "      <td id=\"T_1c9cc_row9_col1\" class=\"data row9 col1\" >15</td>\n",
              "      <td id=\"T_1c9cc_row9_col2\" class=\"data row9 col2\" >101000100110000</td>\n",
              "      <td id=\"T_1c9cc_row9_col3\" class=\"data row9 col3\" >-104.860000</td>\n",
              "      <td id=\"T_1c9cc_row9_col4\" class=\"data row9 col4\" >3.790000</td>\n",
              "      <td id=\"T_1c9cc_row9_col5\" class=\"data row9 col5\" >101000100110000</td>\n",
              "      <td id=\"T_1c9cc_row9_col6\" class=\"data row9 col6\" >-104.860000</td>\n",
              "      <td id=\"T_1c9cc_row9_col7\" class=\"data row9 col7\" >2.360000</td>\n",
              "      <td id=\"T_1c9cc_row9_col8\" class=\"data row9 col8\" >True</td>\n",
              "      <td id=\"T_1c9cc_row9_col9\" class=\"data row9 col9\" >101001100010000</td>\n",
              "      <td id=\"T_1c9cc_row9_col10\" class=\"data row9 col10\" >-95.700000</td>\n",
              "      <td id=\"T_1c9cc_row9_col11\" class=\"data row9 col11\" >53.500000</td>\n",
              "      <td id=\"T_1c9cc_row9_col12\" class=\"data row9 col12\" >10.000000</td>\n",
              "      <td id=\"T_1c9cc_row9_col13\" class=\"data row9 col13\" >False\n",
              "</td>\n",
              "    </tr>\n",
              "    <tr>\n",
              "      <th id=\"T_1c9cc_level0_row10\" class=\"row_heading level0 row10\" >10</th>\n",
              "      <td id=\"T_1c9cc_row10_col0\" class=\"data row10 col0\" >normal</td>\n",
              "      <td id=\"T_1c9cc_row10_col1\" class=\"data row10 col1\" >15</td>\n",
              "      <td id=\"T_1c9cc_row10_col2\" class=\"data row10 col2\" >101000100110000</td>\n",
              "      <td id=\"T_1c9cc_row10_col3\" class=\"data row10 col3\" >-104.860000</td>\n",
              "      <td id=\"T_1c9cc_row10_col4\" class=\"data row10 col4\" >3.790000</td>\n",
              "      <td id=\"T_1c9cc_row10_col5\" class=\"data row10 col5\" >101000100110000</td>\n",
              "      <td id=\"T_1c9cc_row10_col6\" class=\"data row10 col6\" >-104.860000</td>\n",
              "      <td id=\"T_1c9cc_row10_col7\" class=\"data row10 col7\" >2.360000</td>\n",
              "      <td id=\"T_1c9cc_row10_col8\" class=\"data row10 col8\" >True</td>\n",
              "      <td id=\"T_1c9cc_row10_col9\" class=\"data row10 col9\" >101001100110000</td>\n",
              "      <td id=\"T_1c9cc_row10_col10\" class=\"data row10 col10\" >-91.180000</td>\n",
              "      <td id=\"T_1c9cc_row10_col11\" class=\"data row10 col11\" >59.040000</td>\n",
              "      <td id=\"T_1c9cc_row10_col12\" class=\"data row10 col12\" >11.000000</td>\n",
              "      <td id=\"T_1c9cc_row10_col13\" class=\"data row10 col13\" >False\n",
              "</td>\n",
              "    </tr>\n",
              "    <tr>\n",
              "      <th id=\"T_1c9cc_level0_row11\" class=\"row_heading level0 row11\" >11</th>\n",
              "      <td id=\"T_1c9cc_row11_col0\" class=\"data row11 col0\" >normal</td>\n",
              "      <td id=\"T_1c9cc_row11_col1\" class=\"data row11 col1\" >15</td>\n",
              "      <td id=\"T_1c9cc_row11_col2\" class=\"data row11 col2\" >101000100110000</td>\n",
              "      <td id=\"T_1c9cc_row11_col3\" class=\"data row11 col3\" >-104.860000</td>\n",
              "      <td id=\"T_1c9cc_row11_col4\" class=\"data row11 col4\" >3.790000</td>\n",
              "      <td id=\"T_1c9cc_row11_col5\" class=\"data row11 col5\" >101000100110000</td>\n",
              "      <td id=\"T_1c9cc_row11_col6\" class=\"data row11 col6\" >-104.860000</td>\n",
              "      <td id=\"T_1c9cc_row11_col7\" class=\"data row11 col7\" >2.360000</td>\n",
              "      <td id=\"T_1c9cc_row11_col8\" class=\"data row11 col8\" >True</td>\n",
              "      <td id=\"T_1c9cc_row11_col9\" class=\"data row11 col9\" >101000100100010</td>\n",
              "      <td id=\"T_1c9cc_row11_col10\" class=\"data row11 col10\" >-77.460000</td>\n",
              "      <td id=\"T_1c9cc_row11_col11\" class=\"data row11 col11\" >75.690000</td>\n",
              "      <td id=\"T_1c9cc_row11_col12\" class=\"data row11 col12\" >12.000000</td>\n",
              "      <td id=\"T_1c9cc_row11_col13\" class=\"data row11 col13\" >False\n",
              "</td>\n",
              "    </tr>\n",
              "    <tr>\n",
              "      <th id=\"T_1c9cc_level0_row12\" class=\"row_heading level0 row12\" >12</th>\n",
              "      <td id=\"T_1c9cc_row12_col0\" class=\"data row12 col0\" >normal</td>\n",
              "      <td id=\"T_1c9cc_row12_col1\" class=\"data row12 col1\" >15</td>\n",
              "      <td id=\"T_1c9cc_row12_col2\" class=\"data row12 col2\" >101000100110000</td>\n",
              "      <td id=\"T_1c9cc_row12_col3\" class=\"data row12 col3\" >-104.860000</td>\n",
              "      <td id=\"T_1c9cc_row12_col4\" class=\"data row12 col4\" >3.790000</td>\n",
              "      <td id=\"T_1c9cc_row12_col5\" class=\"data row12 col5\" >101000100110000</td>\n",
              "      <td id=\"T_1c9cc_row12_col6\" class=\"data row12 col6\" >-104.860000</td>\n",
              "      <td id=\"T_1c9cc_row12_col7\" class=\"data row12 col7\" >2.360000</td>\n",
              "      <td id=\"T_1c9cc_row12_col8\" class=\"data row12 col8\" >True</td>\n",
              "      <td id=\"T_1c9cc_row12_col9\" class=\"data row12 col9\" >101000100010000</td>\n",
              "      <td id=\"T_1c9cc_row12_col10\" class=\"data row12 col10\" >-96.120000</td>\n",
              "      <td id=\"T_1c9cc_row12_col11\" class=\"data row12 col11\" >71.620000</td>\n",
              "      <td id=\"T_1c9cc_row12_col12\" class=\"data row12 col12\" >13.000000</td>\n",
              "      <td id=\"T_1c9cc_row12_col13\" class=\"data row12 col13\" >False\n",
              "</td>\n",
              "    </tr>\n",
              "    <tr>\n",
              "      <th id=\"T_1c9cc_level0_row13\" class=\"row_heading level0 row13\" >13</th>\n",
              "      <td id=\"T_1c9cc_row13_col0\" class=\"data row13 col0\" >normal</td>\n",
              "      <td id=\"T_1c9cc_row13_col1\" class=\"data row13 col1\" >15</td>\n",
              "      <td id=\"T_1c9cc_row13_col2\" class=\"data row13 col2\" >101000100110000</td>\n",
              "      <td id=\"T_1c9cc_row13_col3\" class=\"data row13 col3\" >-104.860000</td>\n",
              "      <td id=\"T_1c9cc_row13_col4\" class=\"data row13 col4\" >3.790000</td>\n",
              "      <td id=\"T_1c9cc_row13_col5\" class=\"data row13 col5\" >101000100110000</td>\n",
              "      <td id=\"T_1c9cc_row13_col6\" class=\"data row13 col6\" >-104.860000</td>\n",
              "      <td id=\"T_1c9cc_row13_col7\" class=\"data row13 col7\" >2.360000</td>\n",
              "      <td id=\"T_1c9cc_row13_col8\" class=\"data row13 col8\" >True</td>\n",
              "      <td id=\"T_1c9cc_row13_col9\" class=\"data row13 col9\" >010111011011111</td>\n",
              "      <td id=\"T_1c9cc_row13_col10\" class=\"data row13 col10\" >-82.050000</td>\n",
              "      <td id=\"T_1c9cc_row13_col11\" class=\"data row13 col11\" >74.830000</td>\n",
              "      <td id=\"T_1c9cc_row13_col12\" class=\"data row13 col12\" >14.000000</td>\n",
              "      <td id=\"T_1c9cc_row13_col13\" class=\"data row13 col13\" >False\n",
              "</td>\n",
              "    </tr>\n",
              "    <tr>\n",
              "      <th id=\"T_1c9cc_level0_row14\" class=\"row_heading level0 row14\" >14</th>\n",
              "      <td id=\"T_1c9cc_row14_col0\" class=\"data row14 col0\" >normal</td>\n",
              "      <td id=\"T_1c9cc_row14_col1\" class=\"data row14 col1\" >15</td>\n",
              "      <td id=\"T_1c9cc_row14_col2\" class=\"data row14 col2\" >101000100110000</td>\n",
              "      <td id=\"T_1c9cc_row14_col3\" class=\"data row14 col3\" >-104.860000</td>\n",
              "      <td id=\"T_1c9cc_row14_col4\" class=\"data row14 col4\" >3.790000</td>\n",
              "      <td id=\"T_1c9cc_row14_col5\" class=\"data row14 col5\" >101000100110000</td>\n",
              "      <td id=\"T_1c9cc_row14_col6\" class=\"data row14 col6\" >-104.860000</td>\n",
              "      <td id=\"T_1c9cc_row14_col7\" class=\"data row14 col7\" >2.360000</td>\n",
              "      <td id=\"T_1c9cc_row14_col8\" class=\"data row14 col8\" >True</td>\n",
              "      <td id=\"T_1c9cc_row14_col9\" class=\"data row14 col9\" >101001100011000</td>\n",
              "      <td id=\"T_1c9cc_row14_col10\" class=\"data row14 col10\" >-85.160000</td>\n",
              "      <td id=\"T_1c9cc_row14_col11\" class=\"data row14 col11\" >83.710000</td>\n",
              "      <td id=\"T_1c9cc_row14_col12\" class=\"data row14 col12\" >15.000000</td>\n",
              "      <td id=\"T_1c9cc_row14_col13\" class=\"data row14 col13\" >False\n",
              "</td>\n",
              "    </tr>\n",
              "    <tr>\n",
              "      <th id=\"T_1c9cc_level0_row15\" class=\"row_heading level0 row15\" >15</th>\n",
              "      <td id=\"T_1c9cc_row15_col0\" class=\"data row15 col0\" >normal</td>\n",
              "      <td id=\"T_1c9cc_row15_col1\" class=\"data row15 col1\" >15</td>\n",
              "      <td id=\"T_1c9cc_row15_col2\" class=\"data row15 col2\" >101000100110000</td>\n",
              "      <td id=\"T_1c9cc_row15_col3\" class=\"data row15 col3\" >-104.860000</td>\n",
              "      <td id=\"T_1c9cc_row15_col4\" class=\"data row15 col4\" >3.790000</td>\n",
              "      <td id=\"T_1c9cc_row15_col5\" class=\"data row15 col5\" >101000100110000</td>\n",
              "      <td id=\"T_1c9cc_row15_col6\" class=\"data row15 col6\" >-104.860000</td>\n",
              "      <td id=\"T_1c9cc_row15_col7\" class=\"data row15 col7\" >2.360000</td>\n",
              "      <td id=\"T_1c9cc_row15_col8\" class=\"data row15 col8\" >True</td>\n",
              "      <td id=\"T_1c9cc_row15_col9\" class=\"data row15 col9\" >101000101110010</td>\n",
              "      <td id=\"T_1c9cc_row15_col10\" class=\"data row15 col10\" >-86.800000</td>\n",
              "      <td id=\"T_1c9cc_row15_col11\" class=\"data row15 col11\" >87.040000</td>\n",
              "      <td id=\"T_1c9cc_row15_col12\" class=\"data row15 col12\" >16.000000</td>\n",
              "      <td id=\"T_1c9cc_row15_col13\" class=\"data row15 col13\" >False\n",
              "</td>\n",
              "    </tr>\n",
              "    <tr>\n",
              "      <th id=\"T_1c9cc_level0_row16\" class=\"row_heading level0 row16\" >16</th>\n",
              "      <td id=\"T_1c9cc_row16_col0\" class=\"data row16 col0\" >normal</td>\n",
              "      <td id=\"T_1c9cc_row16_col1\" class=\"data row16 col1\" >15</td>\n",
              "      <td id=\"T_1c9cc_row16_col2\" class=\"data row16 col2\" >101000100110000</td>\n",
              "      <td id=\"T_1c9cc_row16_col3\" class=\"data row16 col3\" >-104.860000</td>\n",
              "      <td id=\"T_1c9cc_row16_col4\" class=\"data row16 col4\" >3.790000</td>\n",
              "      <td id=\"T_1c9cc_row16_col5\" class=\"data row16 col5\" >101000100110000</td>\n",
              "      <td id=\"T_1c9cc_row16_col6\" class=\"data row16 col6\" >-104.860000</td>\n",
              "      <td id=\"T_1c9cc_row16_col7\" class=\"data row16 col7\" >2.360000</td>\n",
              "      <td id=\"T_1c9cc_row16_col8\" class=\"data row16 col8\" >True</td>\n",
              "      <td id=\"T_1c9cc_row16_col9\" class=\"data row16 col9\" >101001100110000</td>\n",
              "      <td id=\"T_1c9cc_row16_col10\" class=\"data row16 col10\" >-91.180000</td>\n",
              "      <td id=\"T_1c9cc_row16_col11\" class=\"data row16 col11\" >95.890000</td>\n",
              "      <td id=\"T_1c9cc_row16_col12\" class=\"data row16 col12\" >17.000000</td>\n",
              "      <td id=\"T_1c9cc_row16_col13\" class=\"data row16 col13\" >False\n",
              "</td>\n",
              "    </tr>\n",
              "    <tr>\n",
              "      <th id=\"T_1c9cc_level0_row17\" class=\"row_heading level0 row17\" >17</th>\n",
              "      <td id=\"T_1c9cc_row17_col0\" class=\"data row17 col0\" >normal</td>\n",
              "      <td id=\"T_1c9cc_row17_col1\" class=\"data row17 col1\" >15</td>\n",
              "      <td id=\"T_1c9cc_row17_col2\" class=\"data row17 col2\" >101000100110000</td>\n",
              "      <td id=\"T_1c9cc_row17_col3\" class=\"data row17 col3\" >-104.860000</td>\n",
              "      <td id=\"T_1c9cc_row17_col4\" class=\"data row17 col4\" >3.790000</td>\n",
              "      <td id=\"T_1c9cc_row17_col5\" class=\"data row17 col5\" >101000100110000</td>\n",
              "      <td id=\"T_1c9cc_row17_col6\" class=\"data row17 col6\" >-104.860000</td>\n",
              "      <td id=\"T_1c9cc_row17_col7\" class=\"data row17 col7\" >2.360000</td>\n",
              "      <td id=\"T_1c9cc_row17_col8\" class=\"data row17 col8\" >True</td>\n",
              "      <td id=\"T_1c9cc_row17_col9\" class=\"data row17 col9\" >000110011000111</td>\n",
              "      <td id=\"T_1c9cc_row17_col10\" class=\"data row17 col10\" >-75.350000</td>\n",
              "      <td id=\"T_1c9cc_row17_col11\" class=\"data row17 col11\" >100.470000</td>\n",
              "      <td id=\"T_1c9cc_row17_col12\" class=\"data row17 col12\" >18.000000</td>\n",
              "      <td id=\"T_1c9cc_row17_col13\" class=\"data row17 col13\" >False\n",
              "</td>\n",
              "    </tr>\n",
              "    <tr>\n",
              "      <th id=\"T_1c9cc_level0_row18\" class=\"row_heading level0 row18\" >18</th>\n",
              "      <td id=\"T_1c9cc_row18_col0\" class=\"data row18 col0\" >normal</td>\n",
              "      <td id=\"T_1c9cc_row18_col1\" class=\"data row18 col1\" >15</td>\n",
              "      <td id=\"T_1c9cc_row18_col2\" class=\"data row18 col2\" >101000100110000</td>\n",
              "      <td id=\"T_1c9cc_row18_col3\" class=\"data row18 col3\" >-104.860000</td>\n",
              "      <td id=\"T_1c9cc_row18_col4\" class=\"data row18 col4\" >3.790000</td>\n",
              "      <td id=\"T_1c9cc_row18_col5\" class=\"data row18 col5\" >101000100110000</td>\n",
              "      <td id=\"T_1c9cc_row18_col6\" class=\"data row18 col6\" >-104.860000</td>\n",
              "      <td id=\"T_1c9cc_row18_col7\" class=\"data row18 col7\" >2.360000</td>\n",
              "      <td id=\"T_1c9cc_row18_col8\" class=\"data row18 col8\" >True</td>\n",
              "      <td id=\"T_1c9cc_row18_col9\" class=\"data row18 col9\" >101000101010000</td>\n",
              "      <td id=\"T_1c9cc_row18_col10\" class=\"data row18 col10\" >-78.550000</td>\n",
              "      <td id=\"T_1c9cc_row18_col11\" class=\"data row18 col11\" >220.540000</td>\n",
              "      <td id=\"T_1c9cc_row18_col12\" class=\"data row18 col12\" >19.000000</td>\n",
              "      <td id=\"T_1c9cc_row18_col13\" class=\"data row18 col13\" >False\n",
              "</td>\n",
              "    </tr>\n",
              "    <tr>\n",
              "      <th id=\"T_1c9cc_level0_row19\" class=\"row_heading level0 row19\" >19</th>\n",
              "      <td id=\"T_1c9cc_row19_col0\" class=\"data row19 col0\" >normal</td>\n",
              "      <td id=\"T_1c9cc_row19_col1\" class=\"data row19 col1\" >15</td>\n",
              "      <td id=\"T_1c9cc_row19_col2\" class=\"data row19 col2\" >101000100110000</td>\n",
              "      <td id=\"T_1c9cc_row19_col3\" class=\"data row19 col3\" >-104.860000</td>\n",
              "      <td id=\"T_1c9cc_row19_col4\" class=\"data row19 col4\" >3.790000</td>\n",
              "      <td id=\"T_1c9cc_row19_col5\" class=\"data row19 col5\" >101000100110000</td>\n",
              "      <td id=\"T_1c9cc_row19_col6\" class=\"data row19 col6\" >-104.860000</td>\n",
              "      <td id=\"T_1c9cc_row19_col7\" class=\"data row19 col7\" >2.360000</td>\n",
              "      <td id=\"T_1c9cc_row19_col8\" class=\"data row19 col8\" >True</td>\n",
              "      <td id=\"T_1c9cc_row19_col9\" class=\"data row19 col9\" >010111011001111</td>\n",
              "      <td id=\"T_1c9cc_row19_col10\" class=\"data row19 col10\" >-104.860000</td>\n",
              "      <td id=\"T_1c9cc_row19_col11\" class=\"data row19 col11\" >109.370000</td>\n",
              "      <td id=\"T_1c9cc_row19_col12\" class=\"data row19 col12\" >20.000000</td>\n",
              "      <td id=\"T_1c9cc_row19_col13\" class=\"data row19 col13\" >True\n",
              "</td>\n",
              "    </tr>\n",
              "  </tbody>\n",
              "</table>\n"
            ],
            "text/plain": [
              "<pandas.io.formats.style.Styler at 0x7f0268fdb6d0>"
            ]
          },
          "execution_count": 15,
          "metadata": {},
          "output_type": "execute_result"
        }
      ],
      "source": [
        "#view output table\n",
        "def highlight_false(s, column):\n",
        "    is_false = pd.Series(data=False, index=s.index)\n",
        "    is_false[column] = s.loc[column].strip() == 'False'\n",
        "    return ['color: #A16060' if is_false.any() else '' for v in is_false]\n",
        "\n",
        "column_arrays = [['Distribution', 'No. of Agents', 'Brute Force Solution','Brute Force Solution','Brute Force Solution', \\\n",
        "                  'Qiskit Eigensolver','Qiskit Eigensolver','Qiskit Eigensolver','Qiskit Eigensolver', 'Qiskit QAOA','Qiskit QAOA',\\\n",
        "                  'Qiskit QAOA', 'Qiskit QAOA', 'Qiskit QAOA'], \n",
        "                 ['', '', 'Result', 'Value', 'TTE', 'Result', 'Value', 'TTE', 'Correctness', 'Result', 'Value', 'TTE', 'reps (p)', 'Correctness']]\n",
        "\n",
        "#df = pd.DataFrame(table_contents, columns=table_headers)\n",
        "df = pd.DataFrame(table_contents, columns=pd.MultiIndex.from_arrays(column_arrays))\n",
        "\n",
        "df.apply(pd.to_numeric, errors='ignore')\n",
        "\n",
        "for col in df.columns:\n",
        "  try:\n",
        "    if 'Result' in col or 'No. of Agents' in col:\n",
        "      raise\n",
        "    df[col] = df[col].astype(float)\n",
        "  except:\n",
        "    continue\n",
        "\n",
        "df = df.round(decimals = 2)\n",
        "\n",
        "s = df.style.apply(highlight_false, column=('Qiskit QAOA', 'Correctness'), axis=1)\n",
        "cell_hover = {  # for row hover use <tr> instead of <td>\n",
        "    'selector': 'td:hover',\n",
        "    'props': [('background-color', 'grey')]\n",
        "}\n",
        "index_names = {\n",
        "    'selector': '.index_name',\n",
        "    'props': 'font-style: italic; color: darkgrey; font-weight:normal;'\n",
        "}\n",
        "headers = {\n",
        "    'selector': 'th:not(.index_name)',\n",
        "    'props': 'background-color: #1D1D1D; color: white;'\n",
        "}\n",
        "s.set_table_styles([cell_hover, index_names, headers])\n",
        "\n",
        "tte_col_bgcolor = '154360'\n",
        "value_col_bgcolor = '784212'\n",
        "resullt_col_bgcolor = '186A3B'\n",
        "correctness_col_bgcolor = '693f3f'\n",
        "\n",
        "\n",
        "s.set_table_styles({\n",
        "    ('No. of Agents', ''): [{'selector': 'th', 'props': 'border-left: 1px solid white'},\n",
        "                               {'selector': 'td', 'props': 'border-left: 1px solid white'}],\n",
        "    ('Brute Force Solution', 'Result'): [{'selector': 'th', 'props': 'border-left: 1px solid white'},\n",
        "                               {'selector': 'td', 'props': 'border-left: 1px solid white; background-color: #'+resullt_col_bgcolor}],\n",
        "    ('Brute Force Solution', 'Value'): [{'selector': 'th', 'props': 'border-left: 1px solid black'},\n",
        "                               {'selector': 'td', 'props': 'border-left: 1px solid black; background-color:#'+value_col_bgcolor}],\n",
        "    ('Brute Force Solution', 'TTE'): [{'selector': 'th', 'props': 'border-left: 1px solid black'},\n",
        "                               {'selector': 'td', 'props': 'border-left: 1px solid black; background-color:#'+tte_col_bgcolor}],\n",
        "    ('Qiskit Eigensolver', 'Result'): [{'selector': 'th', 'props': 'border-left: 1px solid white'},\n",
        "                               {'selector': 'td', 'props': 'border-left: 1px solid white; background-color: #'+resullt_col_bgcolor}],\n",
        "    ('Qiskit Eigensolver', 'Value'): [{'selector': 'th', 'props': 'border-left: 1px solid black'},\n",
        "                               {'selector': 'td', 'props': 'border-left: 1px solid black; background-color:#'+value_col_bgcolor}],\n",
        "    ('Qiskit Eigensolver', 'TTE'): [{'selector': 'th', 'props': 'border-left: 1px solid black'},\n",
        "                               {'selector': 'td', 'props': 'border-left: 1px solid black; background-color:#'+tte_col_bgcolor}],\n",
        "    ('Qiskit Eigensolver', 'Correctness'): [{'selector': 'th', 'props': 'border-left: 1px solid black'},\n",
        "                               {'selector': 'td', 'props': 'border-left: 1px solid black; background-color:#'+correctness_col_bgcolor}],\n",
        "    ('Qiskit QAOA', 'Result'): [{'selector': 'th', 'props': 'border-left: 1px solid white'},\n",
        "                               {'selector': 'td', 'props': 'border-left: 1px solid white; background-color: #'+resullt_col_bgcolor}],\n",
        "    ('Qiskit QAOA', 'Value'): [{'selector': 'th', 'props': 'border-left: 1px solid black'},\n",
        "                               {'selector': 'td', 'props': 'border-left: 1px solid black; background-color:#'+value_col_bgcolor}],\n",
        "    ('Qiskit QAOA', 'TTE'): [{'selector': 'th', 'props': 'border-left: 1px solid black'},\n",
        "                               {'selector': 'td', 'props': 'border-left: 1px solid black; background-color:#'+tte_col_bgcolor}],\n",
        "    ('Qiskit QAOA', 'reps (p)'): [{'selector': 'th', 'props': 'border-left: 1px solid black'},\n",
        "                               {'selector': 'td', 'props': 'border-left: 1px solid black'}],\n",
        "    ('Qiskit QAOA', 'Correctness'): [{'selector': 'th', 'props': 'border-left: 1px solid black'},\n",
        "                               {'selector': 'td', 'props': 'border-left: 1px solid black; background-color:#'+correctness_col_bgcolor}],\n",
        "    ('Dwave Annealer', 'Result'): [{'selector': 'th', 'props': 'border-left: 1px solid white'},\n",
        "                               {'selector': 'td', 'props': 'border-left: 1px solid white; background-color: #'+resullt_col_bgcolor}],\n",
        "    ('Dwave Annealer', 'Value'): [{'selector': 'th', 'props': 'border-left: 1px solid black'},\n",
        "                               {'selector': 'td', 'props': 'border-left: 1px solid black; background-color:#'+value_col_bgcolor}],\n",
        "    ('Dwave Annealer', 'TTE'): [{'selector': 'th', 'props': 'border-left: 1px solid black'},\n",
        "                               {'selector': 'td', 'props': 'border-left: 1px solid black; background-color:#'+tte_col_bgcolor}],\n",
        "    ('Dwave Annealer', 'Correctness'): [{'selector': 'th', 'props': 'border-left: 1px solid black'},\n",
        "                               {'selector': 'td', 'props': 'border-left: 1px solid black; background-color:#'+correctness_col_bgcolor}]\n",
        "}, overwrite=False, axis=0)"
      ]
    },
    {
      "cell_type": "code",
      "execution_count": null,
      "metadata": {
        "id": "dwV40JbJtMS8",
        "outputId": "78084989-3894-43b8-fd63-d949a8d44887"
      },
      "outputs": [
        {
          "data": {
            "text/html": [
              "<div>\n",
              "<style scoped>\n",
              "    .dataframe tbody tr th:only-of-type {\n",
              "        vertical-align: middle;\n",
              "    }\n",
              "\n",
              "    .dataframe tbody tr th {\n",
              "        vertical-align: top;\n",
              "    }\n",
              "\n",
              "    .dataframe thead th {\n",
              "        text-align: right;\n",
              "    }\n",
              "</style>\n",
              "<table border=\"1\" class=\"dataframe\">\n",
              "  <thead>\n",
              "    <tr style=\"text-align: right;\">\n",
              "      <th></th>\n",
              "      <th>Distribution</th>\n",
              "      <th>No. of Agents</th>\n",
              "      <th>TTE(BF)</th>\n",
              "      <th>TTE(QUBO)</th>\n",
              "      <th>TTE(QA)</th>\n",
              "    </tr>\n",
              "  </thead>\n",
              "  <tbody>\n",
              "    <tr>\n",
              "      <th>0</th>\n",
              "      <td>uniform</td>\n",
              "      <td>2</td>\n",
              "      <td>0.0</td>\n",
              "      <td>0.0</td>\n",
              "      <td>25.82907509803772</td>\n",
              "    </tr>\n",
              "    <tr>\n",
              "      <th>1</th>\n",
              "      <td>uniform</td>\n",
              "      <td>3</td>\n",
              "      <td>0.0</td>\n",
              "      <td>0.0</td>\n",
              "      <td>27.027777671813965</td>\n",
              "    </tr>\n",
              "    <tr>\n",
              "      <th>2</th>\n",
              "      <td>uniform</td>\n",
              "      <td>4</td>\n",
              "      <td>0.0</td>\n",
              "      <td>0.0</td>\n",
              "      <td>25.263563632965088</td>\n",
              "    </tr>\n",
              "    <tr>\n",
              "      <th>3</th>\n",
              "      <td>uniform</td>\n",
              "      <td>5</td>\n",
              "      <td>0.0</td>\n",
              "      <td>0.0</td>\n",
              "      <td>26.49664878845215</td>\n",
              "    </tr>\n",
              "    <tr>\n",
              "      <th>4</th>\n",
              "      <td>uniform</td>\n",
              "      <td>6</td>\n",
              "      <td>0.0</td>\n",
              "      <td>0.0</td>\n",
              "      <td>26.086325883865356</td>\n",
              "    </tr>\n",
              "  </tbody>\n",
              "</table>\n",
              "</div>"
            ],
            "text/plain": [
              "  Distribution No. of Agents TTE(BF) TTE(QUBO)             TTE(QA)\n",
              "0      uniform             2     0.0       0.0   25.82907509803772\n",
              "1      uniform             3     0.0       0.0  27.027777671813965\n",
              "2      uniform             4     0.0       0.0  25.263563632965088\n",
              "3      uniform             5     0.0       0.0   26.49664878845215\n",
              "4      uniform             6     0.0       0.0  26.086325883865356"
            ]
          },
          "execution_count": 16,
          "metadata": {},
          "output_type": "execute_result"
        }
      ],
      "source": [
        "df = pd.concat([df['Distribution'], df['No. of Agents'], df['Brute Force Solution']['TTE'], df['Qiskit Eigensolver']['TTE'], df['Dwave Annealer']['TTE']], axis = 1)#,    'TTE']\n",
        "df.columns=['Distribution', 'No. of Agents', 'TTE(BF)', 'TTE(QUBO)', 'TTE(QA)']\n",
        "df.head()"
      ]
    },
    {
      "cell_type": "code",
      "execution_count": null,
      "metadata": {
        "id": "TtWxUlIJmV46"
      },
      "outputs": [],
      "source": [
        "# df = pd.concat([df['Distribution'], df['No. of Agents'], df['Brute Force Solution']['TTE'], df['Qiskit Eigensolver']['TTE'], df['Dwave Annealer']['TTE']], axis = 1)#,    'TTE']\n",
        "# df.columns=['Distribution', 'No. of Agents', 'TTE(BF)', 'TTE(QUBO)', 'TTE(QA)']\n",
        "# df.head()"
      ]
    },
    {
      "cell_type": "code",
      "execution_count": null,
      "metadata": {
        "id": "1kDeaKcIsRpN"
      },
      "outputs": [],
      "source": [
        "# np.log2(data['TTE(QA)'].astype(float).to_numpy())"
      ]
    },
    {
      "cell_type": "code",
      "execution_count": null,
      "metadata": {
        "id": "RwCSjKNktMS_",
        "outputId": "682aa1df-addb-48ec-ba11-68f125d64d87"
      },
      "outputs": [
        {
          "data": {
            "image/png": "[encoded data removed]",
            "text/plain": [
              "<Figure size 1008x288 with 1 Axes>"
            ]
          },
          "metadata": {},
          "output_type": "display_data"
        },
        {
          "data": {
            "image/png": "[encoded data removed]",
            "text/plain": [
              "<Figure size 1008x288 with 1 Axes>"
            ]
          },
          "metadata": {},
          "output_type": "display_data"
        },
        {
          "data": {
            "image/png": "[encoded data removed]",
            "text/plain": [
              "<Figure size 1008x288 with 1 Axes>"
            ]
          },
          "metadata": {},
          "output_type": "display_data"
        }
      ],
      "source": [
        "import matplotlib.pyplot as plt\n",
        "\n",
        "\n",
        "folder = 'output-bipartite'\n",
        "create_dir(folder)\n",
        "for distr in df.Distribution.unique():\n",
        "    data = df.loc[df.Distribution == distr, ]\n",
        "    plt.figure(figsize=(14,4))\n",
        "\n",
        "    plt.plot(data['No. of Agents'], data['TTE(BF)'].astype(float).to_numpy())  \n",
        "    plt.scatter(data['No. of Agents'], data['TTE(BF)'].astype(float).to_numpy(), label='Brute Force')\n",
        "\n",
        "    plt.plot(data['No. of Agents'], data['TTE(QA)'].astype(float).to_numpy())\n",
        "    plt.scatter(data['No. of Agents'], data['TTE(QA)'].astype(float).to_numpy(), label='Quantum Annealing')\n",
        "\n",
        "    # plt.plot(data['No. of Agents'], np.log2(data['TTE(BF)'].astype(float).to_numpy()+10**(-5))  )\n",
        "    # plt.scatter(data['No. of Agents'], np.log2(data['TTE(BF)'].astype(float).to_numpy()+10**(-5)), label='Brute Force')\n",
        "    # # plt.plot(data['No. of Agents'], data['TTE(QUBO)'].astype(float))\n",
        "    # # plt.scatter(data['No. of Agents'], data['TTE(QUBO)'].astype(float), label='Classical QUBO')\n",
        "    # plt.plot(data['No. of Agents'], np.log10(data['TTE(QA)'].astype(float).to_numpy()))\n",
        "    # plt.scatter(data['No. of Agents'], np.log10(data['TTE(QA)'].astype(float).to_numpy()), label='Quantum Annealing')\n",
        "    \n",
        "    plt.title(distr)\n",
        "    plt.legend()\n",
        "    plt.autoscale(enable=True)\n",
        "    plt.grid()\n",
        "    plt.savefig(folder + '/' + distr +'.jpeg')\n",
        "    plt.show()"
      ]
    },
    {
      "cell_type": "code",
      "execution_count": null,
      "metadata": {
        "id": "Zt7KN0tMtMTA",
        "outputId": "78baae8f-87c1-428d-eb0a-d5bc93c34551"
      },
      "outputs": [
        {
          "name": "stdout",
          "output_type": "stream",
          "text": [
            "64\n"
          ]
        },
        {
          "data": {
            "image/png": "[encoded data removed]",
            "text/plain": [
              "<Figure size 432x288 with 1 Axes>"
            ]
          },
          "metadata": {},
          "output_type": "display_data"
        },
        {
          "data": {
            "text/latex": [
              "$\\displaystyle \\beta_0 = 12.494 \\\\ \\beta_1 = 1.359$"
            ],
            "text/plain": [
              "<IPython.core.display.Math object>"
            ]
          },
          "metadata": {},
          "output_type": "display_data"
        },
        {
          "data": {
            "text/latex": [
              "$\\displaystyle  Time = 12.494 + 1.359 n \\\\$"
            ],
            "text/plain": [
              "<IPython.core.display.Math object>"
            ]
          },
          "metadata": {},
          "output_type": "display_data"
        },
        {
          "data": {
            "text/latex": [
              "$\\displaystyle  R^2 = 0.924\\\\$"
            ],
            "text/plain": [
              "<IPython.core.display.Math object>"
            ]
          },
          "metadata": {},
          "output_type": "display_data"
        },
        {
          "data": {
            "text/latex": [
              "$\\displaystyle  MAE = 5.959\\\\$"
            ],
            "text/plain": [
              "<IPython.core.display.Math object>"
            ]
          },
          "metadata": {},
          "output_type": "display_data"
        },
        {
          "name": "stdout",
          "output_type": "stream",
          "text": [
            "64\n"
          ]
        },
        {
          "data": {
            "image/png": "[encoded data removed]",
            "text/plain": [
              "<Figure size 432x288 with 1 Axes>"
            ]
          },
          "metadata": {},
          "output_type": "display_data"
        },
        {
          "data": {
            "text/latex": [
              "$\\displaystyle \\beta_0 = 11.432 \\\\ \\beta_1 = 1.43$"
            ],
            "text/plain": [
              "<IPython.core.display.Math object>"
            ]
          },
          "metadata": {},
          "output_type": "display_data"
        },
        {
          "data": {
            "text/latex": [
              "$\\displaystyle  Time = 11.432 + 1.43 n \\\\$"
            ],
            "text/plain": [
              "<IPython.core.display.Math object>"
            ]
          },
          "metadata": {},
          "output_type": "display_data"
        },
        {
          "data": {
            "text/latex": [
              "$\\displaystyle  R^2 = 0.879\\\\$"
            ],
            "text/plain": [
              "<IPython.core.display.Math object>"
            ]
          },
          "metadata": {},
          "output_type": "display_data"
        },
        {
          "data": {
            "text/latex": [
              "$\\displaystyle  MAE = 8.124\\\\$"
            ],
            "text/plain": [
              "<IPython.core.display.Math object>"
            ]
          },
          "metadata": {},
          "output_type": "display_data"
        },
        {
          "name": "stdout",
          "output_type": "stream",
          "text": [
            "64\n"
          ]
        },
        {
          "data": {
            "image/png": "[encoded data removed]",
            "text/plain": [
              "<Figure size 432x288 with 1 Axes>"
            ]
          },
          "metadata": {},
          "output_type": "display_data"
        },
        {
          "data": {
            "text/latex": [
              "$\\displaystyle \\beta_0 = 16.793 \\\\ \\beta_1 = 1.262$"
            ],
            "text/plain": [
              "<IPython.core.display.Math object>"
            ]
          },
          "metadata": {},
          "output_type": "display_data"
        },
        {
          "data": {
            "text/latex": [
              "$\\displaystyle  Time = 16.793 + 1.262 n \\\\$"
            ],
            "text/plain": [
              "<IPython.core.display.Math object>"
            ]
          },
          "metadata": {},
          "output_type": "display_data"
        },
        {
          "data": {
            "text/latex": [
              "$\\displaystyle  R^2 = 0.895\\\\$"
            ],
            "text/plain": [
              "<IPython.core.display.Math object>"
            ]
          },
          "metadata": {},
          "output_type": "display_data"
        },
        {
          "data": {
            "text/latex": [
              "$\\displaystyle  MAE = 6.458\\\\$"
            ],
            "text/plain": [
              "<IPython.core.display.Math object>"
            ]
          },
          "metadata": {},
          "output_type": "display_data"
        }
      ],
      "source": [
        "import numpy as np\n",
        "from sklearn import linear_model\n",
        "import sklearn as skl\n",
        "from sklearn.feature_selection import chi2\n",
        "\n",
        "folder = 'output-CSG'\n",
        "create_dir(folder)\n",
        "\n",
        "\n",
        "for distr in df.Distribution.unique():\n",
        "\n",
        "    x = df.loc[df.Distribution == distr, 'No. of Agents'].astype(float).to_numpy()\n",
        "    y = df.loc[df.Distribution == distr, 'TTE(QA)'].astype(float).to_numpy()\n",
        "    length = len(x)\n",
        "    print(length)\n",
        "\n",
        "    x = x.reshape(length, 1)\n",
        "    y = y.reshape(length, 1)\n",
        "\n",
        "    regr = linear_model.LinearRegression()\n",
        "    model = regr.fit(x,y)\n",
        "    plt.scatter(x,y, color='orange')\n",
        "    plt.plot(x, regr.predict(x), color='blue')\n",
        "    \n",
        "    plt.savefig(folder + '/' + distr+'_lin_reg.jpeg')\n",
        "    plt.show()\n",
        "\n",
        "\n",
        "    from IPython.display import display, Math\n",
        "\n",
        "    b1 = regr.coef_[0][0]\n",
        "    b0 = regr.intercept_[0]\n",
        "\n",
        "    display(Math( r\"$\\beta_0 = {} \\\\ \\beta_1 = {}$\".format(np.round(b0, 3), np.round(b1, 3))))\n",
        "    display(Math( r\"$ Time = {} + {} n \\\\$\".format(np.round(b0, 3), np.round(b1, 3))))\n",
        "    display(Math( r\"$ R^2 = {}\\\\$\".format(np.round(skl.metrics.r2_score(y, regr.predict(x)), 3))))\n",
        "    display(Math( r\"$ MAE = {}\\\\$\".format(np.round(skl.metrics.mean_absolute_error(y, regr.predict(x)), 3))))"
      ]
    }
  ],
  "metadata": {
    "colab": {
      "provenance": []
    },
    "kernelspec": {
      "display_name": "Python 3 (ipykernel)",
      "language": "python",
      "name": "python3"
    },
    "language_info": {
      "codemirror_mode": {
        "name": "ipython",
        "version": 3
      },
      "file_extension": ".py",
      "mimetype": "text/x-python",
      "name": "python",
      "nbconvert_exporter": "python",
      "pygments_lexer": "ipython3",
      "version": "3.7.5rc1"
    },
    "vscode": {
      "interpreter": {
        "hash": "7ce49c866c40cd7c4a959fdc20683d836558adca314277a10aabfe9ea199a547"
      }
    }
  },
  "nbformat": 4,
  "nbformat_minor": 0
}